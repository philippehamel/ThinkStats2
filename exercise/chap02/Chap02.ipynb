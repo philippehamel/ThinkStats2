{
 "cells": [
  {
   "cell_type": "markdown",
   "metadata": {},
   "source": [
    "**Chapitre 2**"
   ]
  },
  {
   "cell_type": "code",
   "execution_count": 15,
   "metadata": {},
   "outputs": [],
   "source": [
    "import thinkstats2 as ts\n",
    "import thinkplot as tp\n",
    "import nsfg\n",
    "import first\n",
    "import math\n",
    "\n",
    "preg = nsfg.ReadFemPreg()\n",
    "live = preg[preg.outcome == 1]"
   ]
  },
  {
   "cell_type": "markdown",
   "metadata": {},
   "source": [
    "**Exercice 2.1**"
   ]
  },
  {
   "cell_type": "markdown",
   "metadata": {},
   "source": [
    "Est-ce que les premiers bébé arrivent en retard? Une métrique importante pour répondre à cette question est l'*effect size*. Pour quantifier celle-ci, on peut utiliser *Cohen's d*."
   ]
  },
  {
   "cell_type": "code",
   "execution_count": 16,
   "metadata": {},
   "outputs": [],
   "source": [
    "def CohenEffect(group1, group2):\n",
    "    diff = group1.mean() - group2.mean()\n",
    "    var1, var2 = group1.var(), group2.var()\n",
    "    n1, n2 = len(group1), len(group2)\n",
    "    pooled_var = (n1 * var1 + n2 * var2) / (n1 + n2)\n",
    "    d = diff / math.sqrt(pooled_var)\n",
    "    return d"
   ]
  },
  {
   "cell_type": "code",
   "execution_count": 17,
   "metadata": {},
   "outputs": [],
   "source": [
    "firsts = live[live.pregordr == 1]\n",
    "others = live[live.pregordr != 1]"
   ]
  },
  {
   "cell_type": "code",
   "execution_count": 18,
   "metadata": {},
   "outputs": [
    {
     "name": "stdout",
     "output_type": "stream",
     "text": [
      "La durée moyenne (en semaine) des grossesses d'un premier né : 38.5843230404 semaines.\n",
      "La durée moyenne (en semaine) des grossesses des autres : 38.5467128028 semaines.\n",
      "La valeur du coefficient de Cohen est : 0.0139171938336\n"
     ]
    }
   ],
   "source": [
    "print(\"La durée moyenne (en semaine) des grossesses d'un premier né :\", firsts.prglngth.mean(), \"semaines.\")\n",
    "print(\"La durée moyenne (en semaine) des grossesses des autres :\", others.prglngth.mean(), \"semaines.\")\n",
    "print(\"La valeur du coefficient de Cohen est :\", CohenEffect(firsts.prglngth, others.prglngth))"
   ]
  },
  {
   "cell_type": "markdown",
   "metadata": {},
   "source": [
    "L'effet est très faible, mais les premier nées tendent à naître légèrement plus tard."
   ]
  },
  {
   "cell_type": "markdown",
   "metadata": {},
   "source": [
    "**Exercice 2.2**"
   ]
  },
  {
   "cell_type": "code",
   "execution_count": null,
   "metadata": {},
   "outputs": [],
   "source": []
  }
 ],
 "metadata": {
  "kernelspec": {
   "display_name": "Python 3",
   "language": "python",
   "name": "python3"
  },
  "language_info": {
   "codemirror_mode": {
    "name": "ipython",
    "version": 3
   },
   "file_extension": ".py",
   "mimetype": "text/x-python",
   "name": "python",
   "nbconvert_exporter": "python",
   "pygments_lexer": "ipython3",
   "version": "3.5.2"
  }
 },
 "nbformat": 4,
 "nbformat_minor": 2
}
