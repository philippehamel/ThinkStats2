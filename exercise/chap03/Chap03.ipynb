{
 "cells": [
  {
   "cell_type": "markdown",
   "metadata": {},
   "source": [
    "# Chapitre 3"
   ]
  },
  {
   "cell_type": "code",
   "execution_count": 11,
   "metadata": {},
   "outputs": [],
   "source": [
    "%matplotlib inline\n",
    "\n",
    "import thinkstats2 as ts\n",
    "import thinkplot as tp\n",
    "import probability as prob\n",
    "import nsfg\n",
    "import math"
   ]
  },
  {
   "cell_type": "markdown",
   "metadata": {},
   "source": [
    "**Exercice 3.1**\n",
    "\n",
    "Something like the class size paradox appears if you survey children and ask how many children are in their family. Families with many children are more likely to appear in your sample, and families with no children have no chance to be in the sample.\n",
    "\n",
    "Use the NSFG respondent variable numkdhh to construct the actual distribution for the number of children under 18 in the respondents' households.\n",
    "\n",
    "Now compute the biased distribution we would see if we surveyed the children and asked them how many children under 18 (including themselves) are in their household.\n",
    "\n",
    "Plot the actual and biased distributions, and compute their means."
   ]
  },
  {
   "cell_type": "code",
   "execution_count": 3,
   "metadata": {},
   "outputs": [],
   "source": [
    "resp = nsfg.ReadFemResp()"
   ]
  },
  {
   "cell_type": "code",
   "execution_count": 7,
   "metadata": {},
   "outputs": [
    {
     "data": {
      "image/png": "[encoded data removed]",
      "text/plain": [
       "<Figure size 432x288 with 1 Axes>"
      ]
     },
     "metadata": {},
     "output_type": "display_data"
    }
   ],
   "source": [
    "def BiasPmf(pmf, label):\n",
    "    new_pmf = pmf.Copy(label=label)\n",
    "\n",
    "    for x, p in pmf.Items():\n",
    "        new_pmf.Mult(x, x)\n",
    "        \n",
    "    new_pmf.Normalize()\n",
    "    return new_pmf\n",
    "\n",
    "observed_pmf = ts.Pmf(resp.numkdhh, label = 'Observed')\n",
    "bias_pmf = BiasPmf(unbias_pmf, label = 'Bias')\n",
    "\n",
    "tp.PrePlot(2)\n",
    "tp.Pmfs([observed_pmf, bias_pmf])\n",
    "tp.Config(xlabel='Class size', ylabel='PMF')"
   ]
  },
  {
   "cell_type": "markdown",
   "metadata": {},
   "source": [
    "**Exercise 3.2**\n",
    "\n",
    "Write two function to compute the mean and variance from a PMF."
   ]
  },
  {
   "cell_type": "code",
   "execution_count": 10,
   "metadata": {},
   "outputs": [],
   "source": [
    "def PmfMean(pmf_object):\n",
    "    item_list = []\n",
    "    for i in pmf_object:\n",
    "        item_list.append(i * pmf_object.Prob(i))\n",
    "    return sum(item_list)"
   ]
  },
  {
   "cell_type": "code",
   "execution_count": 12,
   "metadata": {},
   "outputs": [],
   "source": [
    "def PmfVar(pmf_object):\n",
    "    item_list = []\n",
    "    mean = PmfMean(pmf_object)\n",
    "    for i in pmf_object:\n",
    "        item_list.append(pmf_object.Prob(i) * (i - mean)**2)\n",
    "    return sum(item_list)"
   ]
  },
  {
   "cell_type": "code",
   "execution_count": 14,
   "metadata": {},
   "outputs": [
    {
     "name": "stdout",
     "output_type": "stream",
     "text": [
      "La moyenne d'enfant dans le ménage est :  1.024205155043831\n",
      "L'écart type d'enfant dans le ménage est :  1.1886396957670224\n"
     ]
    }
   ],
   "source": [
    "print(\"La moyenne d'enfant dans le ménage est : \", PmfMean(observed_pmf))\n",
    "print(\"L'écart type d'enfant dans le ménage est : \", math.sqrt(PmfVar(observed_pmf)))"
   ]
  },
  {
   "cell_type": "code",
   "execution_count": 15,
   "metadata": {},
   "outputs": [
    {
     "name": "stdout",
     "output_type": "stream",
     "text": [
      "La moyenne d'enfant dans le ménage avec biais est :  2.403679100664282\n",
      "L'écart type d'enfant dans le ménage avec biais est :  1.083176857907326\n"
     ]
    }
   ],
   "source": [
    "print(\"La moyenne d'enfant dans le ménage avec biais est : \", PmfMean(bias_pmf))\n",
    "print(\"L'écart type d'enfant dans le ménage avec biais est : \", math.sqrt(PmfVar(bias_pmf)))"
   ]
  },
  {
   "cell_type": "code",
   "execution_count": null,
   "metadata": {},
   "outputs": [],
   "source": []
  }
 ],
 "metadata": {
  "kernelspec": {
   "display_name": "Python 3",
   "language": "python",
   "name": "python3"
  },
  "language_info": {
   "codemirror_mode": {
    "name": "ipython",
    "version": 3
   },
   "file_extension": ".py",
   "mimetype": "text/x-python",
   "name": "python",
   "nbconvert_exporter": "python",
   "pygments_lexer": "ipython3",
   "version": "3.5.2"
  }
 },
 "nbformat": 4,
 "nbformat_minor": 2
}
